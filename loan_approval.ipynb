{
 "cells": [
  {
   "cell_type": "code",
   "execution_count": 1,
   "metadata": {},
   "outputs": [],
   "source": [
    "import random\n",
    "import names"
   ]
  },
  {
   "cell_type": "code",
   "execution_count": 2,
   "metadata": {},
   "outputs": [],
   "source": [
    "def loan_approval(username, age, salary):\n",
    "    username = username.capitalize()\n",
    "    if age >= 18 and salary >= 25000:\n",
    "        loan_amount = int(salary*1.5)\n",
    "        monthly_payments = int(loan_amount / 120)\n",
    "        print('Congrats! You have been approved for the loan.')\n",
    "        print('Your loan amount is confirmed to be $' + str(loan_amount) + ' with monthly payments of $' + str(monthly_payments))\n",
    "    elif age >= 18 and not salary >= 25000:\n",
    "        print('Hmm. It seems we need more information to decide if you can be approved for this loan.')\n",
    "    else:\n",
    "        print('Sorry. We regret to inform you that you have not been approved for this loan.')\n",
    "    print(username + ' - ' + str(age) + ' years old and a salary of $' + str(salary))"
   ]
  },
  {
   "cell_type": "code",
   "execution_count": 3,
   "metadata": {},
   "outputs": [
    {
     "name": "stdout",
     "output_type": "stream",
     "text": [
      "Congrats! You have been approved for the loan.\n",
      "Your loan amount is confirmed to be $52500 with monthly payments of $437\n",
      "Jake - 20 years old and a salary of $35000\n"
     ]
    }
   ],
   "source": [
    "username = input()\n",
    "age = int(input())\n",
    "salary = int(input())\n",
    "\n",
    "loan_approval(username, age, salary)"
   ]
  },
  {
   "cell_type": "code",
   "execution_count": 4,
   "metadata": {},
   "outputs": [
    {
     "name": "stdout",
     "output_type": "stream",
     "text": [
      "Hmm. It seems we need more information to decide if you can be approved for this loan.\n",
      "Tim - 25 years old and a salary of $23000\n"
     ]
    }
   ],
   "source": [
    "loan_approval('tim', 25, 23000)"
   ]
  },
  {
   "cell_type": "code",
   "execution_count": 5,
   "metadata": {},
   "outputs": [
    {
     "name": "stdout",
     "output_type": "stream",
     "text": [
      "Congrats! You have been approved for the loan.\n",
      "Your loan amount is confirmed to be $97134 with monthly payments of $809\n",
      "Richard cutting - 56 years old and a salary of $64756\n"
     ]
    }
   ],
   "source": [
    "loan_approval(names.get_full_name(), random.randint(13, 70), random.randint(5000, 100000))"
   ]
  },
  {
   "cell_type": "code",
   "execution_count": 10,
   "metadata": {},
   "outputs": [
    {
     "name": "stdout",
     "output_type": "stream",
     "text": [
      "Congrats! You have been approved for the loan.\n",
      "Your loan amount is confirmed to be $48642 with monthly payments of $405\n",
      "Harold barnes - 27 years old and a salary of $32428\n"
     ]
    }
   ],
   "source": [
    "loan_approval(names.get_full_name(), random.randint(13, 70), random.randint(5000, 100000))"
   ]
  },
  {
   "cell_type": "code",
   "execution_count": null,
   "metadata": {},
   "outputs": [],
   "source": []
  }
 ],
 "metadata": {
  "interpreter": {
   "hash": "57d7e381bad84dbbe9079d0fe351dec9007cfa821ac0e6e26c21b62a7ed5dfe0"
  },
  "kernelspec": {
   "display_name": "Python 3.8.12 64-bit ('myenv': conda)",
   "language": "python",
   "name": "python3"
  },
  "language_info": {
   "codemirror_mode": {
    "name": "ipython",
    "version": 3
   },
   "file_extension": ".py",
   "mimetype": "text/x-python",
   "name": "python",
   "nbconvert_exporter": "python",
   "pygments_lexer": "ipython3",
   "version": "3.8.12"
  },
  "orig_nbformat": 4
 },
 "nbformat": 4,
 "nbformat_minor": 2
}

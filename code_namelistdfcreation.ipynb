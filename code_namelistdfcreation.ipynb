{
 "cells": [
  {
   "cell_type": "code",
   "execution_count": 2,
   "metadata": {},
   "outputs": [],
   "source": [
    "import numpy as np\n",
    "import numpy_financial as npf\n",
    "import pandas as pd\n",
    "import matplotlib.pyplot as plt\n",
    "import yfinance as yf\n",
    "import names\n",
    "\n",
    "from sklearn.linear_model import LogisticRegression, LinearRegression\n",
    "from sklearn.metrics import accuracy_score, precision_score, recall_score, f1_score, confusion_matrix\n",
    "from sklearn.model_selection import train_test_split\n",
    "\n",
    "# .map('{:,.2f}'.format) - - - for big numbers"
   ]
  },
  {
   "cell_type": "code",
   "execution_count": 8,
   "metadata": {},
   "outputs": [
    {
     "name": "stdout",
     "output_type": "stream",
     "text": [
      "Hello Denice Fox\n"
     ]
    }
   ],
   "source": [
    "print(\"Hello \" + names.get_full_name())"
   ]
  },
  {
   "cell_type": "code",
   "execution_count": 28,
   "metadata": {},
   "outputs": [
    {
     "name": "stdout",
     "output_type": "stream",
     "text": [
      "Hello June Jones\n",
      "Hello Debbie Andersen\n",
      "Hello James Laver\n",
      "Hello Rob Ferrini\n",
      "Hello Raymond Finke\n",
      "Hello Richard Hartley\n",
      "Hello David Moore\n",
      "Hello Mark Bruce\n",
      "Hello Robert Wheller\n",
      "Hello Ronald Cook\n",
      "Hello Mark Nance\n",
      "Hello Jeanette Remis\n",
      "Hello Arthur Brown\n"
     ]
    }
   ],
   "source": [
    "customer_names = []\n",
    "\n",
    "for x in names.get_full_name():\n",
    "    i=0\n",
    "    customer_names.append(names.get_full_name())\n",
    "    if i <=50 :\n",
    "        i += 1\n",
    "        print('Hello ' + names.get_full_name())\n",
    "    else:\n",
    "        break\n"
   ]
  },
  {
   "cell_type": "code",
   "execution_count": 32,
   "metadata": {},
   "outputs": [
    {
     "name": "stdout",
     "output_type": "stream",
     "text": [
      "Alvaro Burns\n",
      "Theresa Barrette\n",
      "Kyle Ross\n",
      "William Rynearson\n",
      "Robert Dickerson\n",
      "Judy Overlock\n",
      "Judy Castle\n",
      "Henry Aguirre\n",
      "Sarah Pace\n",
      "Andy Fralick\n",
      "Jeffrey Lawson\n",
      "Thomas Ong\n",
      "Michael Whyte\n"
     ]
    }
   ],
   "source": [
    "for name in customer_names:\n",
    "    print(name)"
   ]
  },
  {
   "cell_type": "code",
   "execution_count": null,
   "metadata": {},
   "outputs": [],
   "source": []
  },
  {
   "cell_type": "code",
   "execution_count": null,
   "metadata": {},
   "outputs": [],
   "source": []
  }
 ],
 "metadata": {
  "interpreter": {
   "hash": "57d7e381bad84dbbe9079d0fe351dec9007cfa821ac0e6e26c21b62a7ed5dfe0"
  },
  "kernelspec": {
   "display_name": "Python 3.8.12 64-bit ('myenv': conda)",
   "language": "python",
   "name": "python3"
  },
  "language_info": {
   "codemirror_mode": {
    "name": "ipython",
    "version": 3
   },
   "file_extension": ".py",
   "mimetype": "text/x-python",
   "name": "python",
   "nbconvert_exporter": "python",
   "pygments_lexer": "ipython3",
   "version": "3.8.12"
  },
  "orig_nbformat": 4
 },
 "nbformat": 4,
 "nbformat_minor": 2
}

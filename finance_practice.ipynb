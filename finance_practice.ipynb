{
 "cells": [
  {
   "cell_type": "code",
   "execution_count": 1,
   "metadata": {},
   "outputs": [],
   "source": [
    "import numpy as np\n",
    "import numpy_financial as npf\n",
    "import pandas as pd\n",
    "import matplotlib.pyplot as plt"
   ]
  },
  {
   "cell_type": "code",
   "execution_count": 7,
   "metadata": {},
   "outputs": [],
   "source": [
    "def fv(pv, rate, nper, pmt):\n",
    "    future_val = npf.fv(rate=rate/100, nper=nper, pmt=pmt, pv=-pv)\n",
    "    future_val = future_val.round(2)\n",
    "    print('$' + str(future_val))"
   ]
  },
  {
   "cell_type": "code",
   "execution_count": 3,
   "metadata": {},
   "outputs": [
    {
     "name": "stdout",
     "output_type": "stream",
     "text": [
      "$13382.26\n"
     ]
    }
   ],
   "source": [
    "fv(6, 5, 0, 10000)"
   ]
  },
  {
   "cell_type": "code",
   "execution_count": 4,
   "metadata": {},
   "outputs": [],
   "source": [
    "def monthly_payments(pv, fv, rate, nper,):\n",
    "    monthly_payment = npf.pmt(rate=(rate/100)/12, fv=-fv, pv=-pv, nper=nper*12)\n",
    "    monthly_payment = monthly_payment.round(2)\n",
    "    paid_back = ((monthly_payment * 12) * nper).round(2)\n",
    "    profit = (paid_back - pv).round(2)\n",
    "    print('$' + str(monthly_payment) + ' in monthly payments')\n",
    "    print('$' + str(paid_back) + ' total')\n",
    "    print('$' + str(profit) + ' of profit achieved')"
   ]
  },
  {
   "cell_type": "code",
   "execution_count": 5,
   "metadata": {},
   "outputs": [
    {
     "name": "stdout",
     "output_type": "stream",
     "text": [
      "$175.49 in monthly payments\n",
      "$4211.76 total\n",
      "$211.76 of profit achieved\n"
     ]
    }
   ],
   "source": [
    "monthly_payments(4000, 0, 5, 2)"
   ]
  },
  {
   "cell_type": "code",
   "execution_count": 6,
   "metadata": {},
   "outputs": [
    {
     "name": "stdout",
     "output_type": "stream",
     "text": [
      "$202.76 in monthly payments\n",
      "$12165.6 total\n",
      "$2165.6 of profit achieved\n"
     ]
    }
   ],
   "source": [
    "monthly_payments(10000, 0, 8, 5)"
   ]
  },
  {
   "cell_type": "code",
   "execution_count": 15,
   "metadata": {},
   "outputs": [
    {
     "name": "stdout",
     "output_type": "stream",
     "text": [
      "$22057.18\n"
     ]
    }
   ],
   "source": [
    "fv(5000, 16, 10, 0)"
   ]
  },
  {
   "cell_type": "code",
   "execution_count": 16,
   "metadata": {},
   "outputs": [
    {
     "name": "stdout",
     "output_type": "stream",
     "text": [
      "$1377.5 in monthly payments\n",
      "$165300.0 total\n",
      "$65300.0 of profit achieved\n"
     ]
    }
   ],
   "source": [
    "monthly_payments(100000, 0, 11, 10)"
   ]
  },
  {
   "cell_type": "code",
   "execution_count": null,
   "metadata": {},
   "outputs": [],
   "source": []
  }
 ],
 "metadata": {
  "interpreter": {
   "hash": "57d7e381bad84dbbe9079d0fe351dec9007cfa821ac0e6e26c21b62a7ed5dfe0"
  },
  "kernelspec": {
   "display_name": "Python 3.8.12 64-bit ('myenv': conda)",
   "language": "python",
   "name": "python3"
  },
  "language_info": {
   "codemirror_mode": {
    "name": "ipython",
    "version": 3
   },
   "file_extension": ".py",
   "mimetype": "text/x-python",
   "name": "python",
   "nbconvert_exporter": "python",
   "pygments_lexer": "ipython3",
   "version": "3.8.12"
  },
  "orig_nbformat": 4
 },
 "nbformat": 4,
 "nbformat_minor": 2
}

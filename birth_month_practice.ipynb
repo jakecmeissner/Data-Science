{
 "cells": [
  {
   "cell_type": "markdown",
   "metadata": {},
   "source": [
    "# Jake Meissner 75936\n",
    "import calendar\n",
    "\n",
    "user_birth_month = int(input(\"What is your birth month? (between 1-12): \"))\n",
    "print(\"The user's birth month is \" + str(calendar.month_name[user_birth_month]))\n",
    "\n",
    "user_birth_year = int(input(\"What is your birth year? (4 digits): \"))\n",
    "print(\"The user's birth year is \" + str(user_birth_year))\n",
    "\n",
    "if user_birth_month == (1 or 2 or 3):\n",
    "  season = \"Winter\"\n",
    "elif user_birth_month == (4 or 5 or 6):\n",
    "  season = \"Spring\"\n",
    "elif user_birth_month == (7 or 8 or 9):\n",
    "  season = \"Summer\"\n",
    "else:\n",
    "  season = \"Fall\"\n",
    "print(\"The season the user was born in is \" + season)\n",
    "\n",
    "if (user_birth_year % 4) == 0:\n",
    "  print(\"The user was born on a leap year\")\n",
    "else:\n",
    "  print(\"The user was not born on a leap year\")"
   ]
  },
  {
   "cell_type": "code",
   "execution_count": null,
   "metadata": {},
   "outputs": [
    {
     "data": {
      "text/plain": [
       "81.25"
      ]
     },
     "execution_count": 3,
     "metadata": {},
     "output_type": "execute_result"
    }
   ],
   "source": [
    "(125-60)/0.8"
   ]
  },
  {
   "cell_type": "code",
   "execution_count": null,
   "metadata": {},
   "outputs": [],
   "source": []
  }
 ],
 "metadata": {
  "interpreter": {
   "hash": "57d7e381bad84dbbe9079d0fe351dec9007cfa821ac0e6e26c21b62a7ed5dfe0"
  },
  "kernelspec": {
   "display_name": "Python 3.8.12 64-bit ('myenv': conda)",
   "language": "python",
   "name": "python3"
  },
  "language_info": {
   "codemirror_mode": {
    "name": "ipython",
    "version": 3
   },
   "file_extension": ".py",
   "mimetype": "text/x-python",
   "name": "python",
   "nbconvert_exporter": "python",
   "pygments_lexer": "ipython3",
   "version": "3.10.2"
  },
  "orig_nbformat": 4
 },
 "nbformat": 4,
 "nbformat_minor": 2
}

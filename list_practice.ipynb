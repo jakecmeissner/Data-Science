{
 "cells": [
  {
   "cell_type": "code",
   "execution_count": 32,
   "metadata": {},
   "outputs": [],
   "source": [
    "import numpy as np\n",
    "import pandas as pd\n",
    "\n",
    "import random\n",
    "import names"
   ]
  },
  {
   "cell_type": "code",
   "execution_count": 33,
   "metadata": {},
   "outputs": [
    {
     "name": "stdout",
     "output_type": "stream",
     "text": [
      "67\n"
     ]
    }
   ],
   "source": [
    "age = random.randint(18, 70)\n",
    "print(age)"
   ]
  },
  {
   "cell_type": "code",
   "execution_count": 34,
   "metadata": {},
   "outputs": [
    {
     "name": "stdout",
     "output_type": "stream",
     "text": [
      "0\n"
     ]
    }
   ],
   "source": [
    "ages = []\n",
    "print(len(ages))"
   ]
  },
  {
   "cell_type": "code",
   "execution_count": 35,
   "metadata": {},
   "outputs": [],
   "source": [
    "while len(ages) <= 30:\n",
    "    ages.append(random.randint(18, 70))\n",
    "    if len(ages) == 30:\n",
    "        break"
   ]
  },
  {
   "cell_type": "code",
   "execution_count": 36,
   "metadata": {},
   "outputs": [
    {
     "name": "stdout",
     "output_type": "stream",
     "text": [
      "[39, 47, 63, 64, 31, 38, 58, 70, 18, 41, 50, 37, 36, 43, 39, 44, 67, 48, 70, 18, 66, 50, 57, 35, 40, 65, 64, 49, 38, 47]\n"
     ]
    }
   ],
   "source": [
    "print(ages)"
   ]
  },
  {
   "cell_type": "code",
   "execution_count": 37,
   "metadata": {},
   "outputs": [
    {
     "name": "stdout",
     "output_type": "stream",
     "text": [
      "39\n",
      "47\n",
      "63\n",
      "64\n",
      "31\n",
      "38\n",
      "58\n",
      "70\n",
      "18\n",
      "41\n",
      "50\n",
      "37\n",
      "36\n",
      "43\n",
      "39\n",
      "44\n",
      "67\n",
      "48\n",
      "70\n",
      "18\n",
      "66\n",
      "50\n",
      "57\n",
      "35\n",
      "40\n",
      "65\n",
      "64\n",
      "49\n",
      "38\n",
      "47\n"
     ]
    }
   ],
   "source": [
    "for age in ages:\n",
    "    print(age)"
   ]
  },
  {
   "cell_type": "code",
   "execution_count": 38,
   "metadata": {},
   "outputs": [
    {
     "data": {
      "text/plain": [
       "[39, 47, 63, 64, 31, 38, 58, 70, 18, 41, 50]"
      ]
     },
     "execution_count": 38,
     "metadata": {},
     "output_type": "execute_result"
    }
   ],
   "source": [
    "ages[:11]"
   ]
  },
  {
   "cell_type": "code",
   "execution_count": 39,
   "metadata": {},
   "outputs": [
    {
     "name": "stdout",
     "output_type": "stream",
     "text": [
      "  ID\\tYear_Birth\\tEducation\\tMarital_Status\\tIncome\\tKidhome\\tTeenhome\\tDt_Customer\\tRecency\\tMntWines\\tMntFruits\\tMntMeatProducts\\tMntFishProducts\\tMntSweetProducts\\tMntGoldProds\\tNumDealsPurchases\\tNumWebPurchases\\tNumCatalogPurchases\\tNumStorePurchases\\tNumWebVisitsMonth\\tAcceptedCmp3\\tAcceptedCmp4\\tAcceptedCmp5\\tAcceptedCmp1\\tAcceptedCmp2\\tComplain\\tZ_CostContact\\tZ_Revenue\\tResponse\n",
      "0  5524\\t1957\\tGraduation\\tSingle\\t58138\\t0\\t0\\t0...                                                                                                                                                                                                                                                                                                                                                  \n",
      "1  2174\\t1954\\tGraduation\\tSingle\\t46344\\t1\\t1\\t0...                                                                                                                                                                                                                                                                                                                                                  \n",
      "2  4141\\t1965\\tGraduation\\tTogether\\t71613\\t0\\t0\\...                                                                                                                                                                                                                                                                                                                                                  \n",
      "3  6182\\t1984\\tGraduation\\tTogether\\t26646\\t1\\t0\\...                                                                                                                                                                                                                                                                                                                                                  \n",
      "4  5324\\t1981\\tPhD\\tMarried\\t58293\\t1\\t0\\t19-01-2...                                                                                                                                                                                                                                                                                                                                                  \n"
     ]
    }
   ],
   "source": [
    "df = pd.read_csv('/Users/jakemeissner/Documents/datasets/marketing_campaign.csv')\n",
    "print(df.head())"
   ]
  },
  {
   "cell_type": "code",
   "execution_count": 40,
   "metadata": {},
   "outputs": [
    {
     "data": {
      "text/plain": [
       "ID\\tYear_Birth\\tEducation\\tMarital_Status\\tIncome\\tKidhome\\tTeenhome\\tDt_Customer\\tRecency\\tMntWines\\tMntFruits\\tMntMeatProducts\\tMntFishProducts\\tMntSweetProducts\\tMntGoldProds\\tNumDealsPurchases\\tNumWebPurchases\\tNumCatalogPurchases\\tNumStorePurchases\\tNumWebVisitsMonth\\tAcceptedCmp3\\tAcceptedCmp4\\tAcceptedCmp5\\tAcceptedCmp1\\tAcceptedCmp2\\tComplain\\tZ_CostContact\\tZ_Revenue\\tResponse    5524\\t1957\\tGraduation\\tSingle\\t58138\\t0\\t0\\t0...\n",
       "Name: 0, dtype: object"
      ]
     },
     "execution_count": 40,
     "metadata": {},
     "output_type": "execute_result"
    }
   ],
   "source": [
    "df.iloc[0]"
   ]
  },
  {
   "cell_type": "code",
   "execution_count": 50,
   "metadata": {},
   "outputs": [
    {
     "data": {
      "text/plain": [
       "'ID\\tYear_Birth\\tEducation\\tMarital_Status\\tIncome\\tKidhome\\tTeenhome\\tDt_Customer\\tRecency\\tMntWines\\tMntFruits\\tMntMeatProducts\\tMntFishProducts\\tMntSweetProducts\\tMntGoldProds\\tNumDealsPurchases\\tNumWebPurchases\\tNumCatalogPurchases\\tNumStorePurchases\\tNumWebVisitsMonth\\tAcceptedCmp3\\tAcceptedCmp4\\tAcceptedCmp5\\tAcceptedCmp1\\tAcceptedCmp2\\tComplain\\tZ_CostContact\\tZ_Revenue\\tResponse'"
      ]
     },
     "execution_count": 50,
     "metadata": {},
     "output_type": "execute_result"
    }
   ],
   "source": [
    "df.columns[0]"
   ]
  },
  {
   "cell_type": "code",
   "execution_count": 51,
   "metadata": {},
   "outputs": [
    {
     "data": {
      "text/plain": [
       "'I'"
      ]
     },
     "execution_count": 51,
     "metadata": {},
     "output_type": "execute_result"
    }
   ],
   "source": [
    "df.columns[0][0]"
   ]
  },
  {
   "cell_type": "code",
   "execution_count": 47,
   "metadata": {},
   "outputs": [
    {
     "data": {
      "text/plain": [
       "['ID',\n",
       " 'Year_Birth',\n",
       " 'Education',\n",
       " 'Marital_Status',\n",
       " 'Income',\n",
       " 'Kidhome',\n",
       " 'Teenhome',\n",
       " 'Dt_Customer',\n",
       " 'Recency',\n",
       " 'MntWines',\n",
       " 'MntFruits',\n",
       " 'MntMeatProducts',\n",
       " 'MntFishProducts',\n",
       " 'MntSweetProducts',\n",
       " 'MntGoldProds',\n",
       " 'NumDealsPurchases',\n",
       " 'NumWebPurchases',\n",
       " 'NumCatalogPurchases',\n",
       " 'NumStorePurchases',\n",
       " 'NumWebVisitsMonth',\n",
       " 'AcceptedCmp3',\n",
       " 'AcceptedCmp4',\n",
       " 'AcceptedCmp5',\n",
       " 'AcceptedCmp1',\n",
       " 'AcceptedCmp2',\n",
       " 'Complain',\n",
       " 'Z_CostContact',\n",
       " 'Z_Revenue',\n",
       " 'Response']"
      ]
     },
     "execution_count": 47,
     "metadata": {},
     "output_type": "execute_result"
    }
   ],
   "source": [
    "df.columns[0].split()"
   ]
  },
  {
   "cell_type": "code",
   "execution_count": 72,
   "metadata": {},
   "outputs": [
    {
     "data": {
      "text/plain": [
       "'2174\\t1954\\tGraduation\\tSingle\\t46344\\t1\\t1\\t08-03-2014\\t38\\t11\\t1\\t6\\t2\\t1\\t6\\t2\\t1\\t1\\t2\\t5\\t0\\t0\\t0\\t0\\t0\\t0\\t3\\t11\\t0'"
      ]
     },
     "execution_count": 72,
     "metadata": {},
     "output_type": "execute_result"
    }
   ],
   "source": [
    "#df.iloc[1].split()\n",
    "df.iloc[1][0]"
   ]
  },
  {
   "cell_type": "code",
   "execution_count": 75,
   "metadata": {},
   "outputs": [
    {
     "data": {
      "text/html": [
       "<div>\n",
       "<style scoped>\n",
       "    .dataframe tbody tr th:only-of-type {\n",
       "        vertical-align: middle;\n",
       "    }\n",
       "\n",
       "    .dataframe tbody tr th {\n",
       "        vertical-align: top;\n",
       "    }\n",
       "\n",
       "    .dataframe thead th {\n",
       "        text-align: right;\n",
       "    }\n",
       "</style>\n",
       "<table border=\"1\" class=\"dataframe\">\n",
       "  <thead>\n",
       "    <tr style=\"text-align: right;\">\n",
       "      <th></th>\n",
       "      <th>City</th>\n",
       "      <th>Region</th>\n",
       "      <th>Country</th>\n",
       "      <th>Internet Price, 2010</th>\n",
       "      <th>Internet Price, 2011</th>\n",
       "      <th>Internet Price, 2012</th>\n",
       "      <th>Internet Price, 2013</th>\n",
       "      <th>Internet Price, 2014</th>\n",
       "      <th>Internet Price, 2015</th>\n",
       "      <th>Internet Price, 2016</th>\n",
       "      <th>Internet Price, 2017</th>\n",
       "      <th>Internet Price, 2018</th>\n",
       "      <th>Internet Price, 2019</th>\n",
       "      <th>Internet Price, 2020</th>\n",
       "    </tr>\n",
       "  </thead>\n",
       "  <tbody>\n",
       "    <tr>\n",
       "      <th>0</th>\n",
       "      <td>New York City</td>\n",
       "      <td>New York</td>\n",
       "      <td>United States of America</td>\n",
       "      <td>42.990000</td>\n",
       "      <td>49.998333</td>\n",
       "      <td>42.250000</td>\n",
       "      <td>55.932000</td>\n",
       "      <td>50.285000</td>\n",
       "      <td>53.458400</td>\n",
       "      <td>54.592667</td>\n",
       "      <td>59.236400</td>\n",
       "      <td>61.458125</td>\n",
       "      <td>61.734578</td>\n",
       "      <td>66.441395</td>\n",
       "    </tr>\n",
       "    <tr>\n",
       "      <th>1</th>\n",
       "      <td>Washington, D.C.</td>\n",
       "      <td>District of Columbia</td>\n",
       "      <td>United States of America</td>\n",
       "      <td>35.000000</td>\n",
       "      <td>48.000000</td>\n",
       "      <td>49.285714</td>\n",
       "      <td>45.833333</td>\n",
       "      <td>47.000000</td>\n",
       "      <td>56.332593</td>\n",
       "      <td>59.169667</td>\n",
       "      <td>64.207083</td>\n",
       "      <td>64.923077</td>\n",
       "      <td>69.149750</td>\n",
       "      <td>60.590455</td>\n",
       "    </tr>\n",
       "    <tr>\n",
       "      <th>2</th>\n",
       "      <td>San Francisco</td>\n",
       "      <td>California</td>\n",
       "      <td>United States of America</td>\n",
       "      <td>41.666667</td>\n",
       "      <td>42.500000</td>\n",
       "      <td>36.500000</td>\n",
       "      <td>48.500000</td>\n",
       "      <td>47.000000</td>\n",
       "      <td>55.261429</td>\n",
       "      <td>53.051379</td>\n",
       "      <td>58.777778</td>\n",
       "      <td>63.246032</td>\n",
       "      <td>67.366667</td>\n",
       "      <td>68.988824</td>\n",
       "    </tr>\n",
       "    <tr>\n",
       "      <th>3</th>\n",
       "      <td>Berlin</td>\n",
       "      <td>NaN</td>\n",
       "      <td>Germany</td>\n",
       "      <td>30.864198</td>\n",
       "      <td>38.618357</td>\n",
       "      <td>20.509259</td>\n",
       "      <td>30.051020</td>\n",
       "      <td>32.565882</td>\n",
       "      <td>27.129710</td>\n",
       "      <td>26.470655</td>\n",
       "      <td>32.467125</td>\n",
       "      <td>36.439681</td>\n",
       "      <td>33.922920</td>\n",
       "      <td>35.827084</td>\n",
       "    </tr>\n",
       "    <tr>\n",
       "      <th>4</th>\n",
       "      <td>Los Angeles</td>\n",
       "      <td>California</td>\n",
       "      <td>United States of America</td>\n",
       "      <td>35.750000</td>\n",
       "      <td>43.625000</td>\n",
       "      <td>41.500000</td>\n",
       "      <td>37.500000</td>\n",
       "      <td>40.321000</td>\n",
       "      <td>47.606471</td>\n",
       "      <td>50.841642</td>\n",
       "      <td>56.282881</td>\n",
       "      <td>57.484105</td>\n",
       "      <td>63.014848</td>\n",
       "      <td>66.690222</td>\n",
       "    </tr>\n",
       "  </tbody>\n",
       "</table>\n",
       "</div>"
      ],
      "text/plain": [
       "               City                Region                   Country  \\\n",
       "0     New York City              New York  United States of America   \n",
       "1  Washington, D.C.  District of Columbia  United States of America   \n",
       "2     San Francisco            California  United States of America   \n",
       "3            Berlin                   NaN                   Germany   \n",
       "4       Los Angeles            California  United States of America   \n",
       "\n",
       "   Internet Price, 2010  Internet Price, 2011  Internet Price, 2012  \\\n",
       "0             42.990000             49.998333             42.250000   \n",
       "1             35.000000             48.000000             49.285714   \n",
       "2             41.666667             42.500000             36.500000   \n",
       "3             30.864198             38.618357             20.509259   \n",
       "4             35.750000             43.625000             41.500000   \n",
       "\n",
       "   Internet Price, 2013  Internet Price, 2014  Internet Price, 2015  \\\n",
       "0             55.932000             50.285000             53.458400   \n",
       "1             45.833333             47.000000             56.332593   \n",
       "2             48.500000             47.000000             55.261429   \n",
       "3             30.051020             32.565882             27.129710   \n",
       "4             37.500000             40.321000             47.606471   \n",
       "\n",
       "   Internet Price, 2016  Internet Price, 2017  Internet Price, 2018  \\\n",
       "0             54.592667             59.236400             61.458125   \n",
       "1             59.169667             64.207083             64.923077   \n",
       "2             53.051379             58.777778             63.246032   \n",
       "3             26.470655             32.467125             36.439681   \n",
       "4             50.841642             56.282881             57.484105   \n",
       "\n",
       "   Internet Price, 2019  Internet Price, 2020  \n",
       "0             61.734578             66.441395  \n",
       "1             69.149750             60.590455  \n",
       "2             67.366667             68.988824  \n",
       "3             33.922920             35.827084  \n",
       "4             63.014848             66.690222  "
      ]
     },
     "execution_count": 75,
     "metadata": {},
     "output_type": "execute_result"
    }
   ],
   "source": [
    "df = pd.read_csv('/Users/jakemeissner/Documents/datasets/cities_internet_prices_historical.24-10-2021.csv')\n",
    "df.head()"
   ]
  },
  {
   "cell_type": "code",
   "execution_count": 54,
   "metadata": {},
   "outputs": [
    {
     "data": {
      "text/plain": [
       "ID\\tYear_Birth\\tEducation\\tMarital_Status\\tIncome\\tKidhome\\tTeenhome\\tDt_Customer\\tRecency\\tMntWines\\tMntFruits\\tMntMeatProducts\\tMntFishProducts\\tMntSweetProducts\\tMntGoldProds\\tNumDealsPurchases\\tNumWebPurchases\\tNumCatalogPurchases\\tNumStorePurchases\\tNumWebVisitsMonth\\tAcceptedCmp3\\tAcceptedCmp4\\tAcceptedCmp5\\tAcceptedCmp1\\tAcceptedCmp2\\tComplain\\tZ_CostContact\\tZ_Revenue\\tResponse    4141\\t1965\\tGraduation\\tTogether\\t71613\\t0\\t0\\...\n",
       "Name: 2, dtype: object"
      ]
     },
     "execution_count": 54,
     "metadata": {},
     "output_type": "execute_result"
    }
   ],
   "source": []
  },
  {
   "cell_type": "code",
   "execution_count": null,
   "metadata": {},
   "outputs": [],
   "source": []
  }
 ],
 "metadata": {
  "interpreter": {
   "hash": "57d7e381bad84dbbe9079d0fe351dec9007cfa821ac0e6e26c21b62a7ed5dfe0"
  },
  "kernelspec": {
   "display_name": "Python 3.8.12 64-bit ('myenv': conda)",
   "language": "python",
   "name": "python3"
  },
  "language_info": {
   "codemirror_mode": {
    "name": "ipython",
    "version": 3
   },
   "file_extension": ".py",
   "mimetype": "text/x-python",
   "name": "python",
   "nbconvert_exporter": "python",
   "pygments_lexer": "ipython3",
   "version": "3.8.12"
  },
  "orig_nbformat": 4
 },
 "nbformat": 4,
 "nbformat_minor": 2
}

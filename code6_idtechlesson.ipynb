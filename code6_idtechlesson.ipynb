{
 "cells": [
  {
   "cell_type": "code",
   "execution_count": 28,
   "metadata": {},
   "outputs": [],
   "source": [
    "import numpy as np\n",
    "import pandas as pd\n",
    "import random\n",
    "from datetime import date, datetime"
   ]
  },
  {
   "cell_type": "code",
   "execution_count": 15,
   "metadata": {},
   "outputs": [],
   "source": [
    "# If our student can be considered for the advanced math class, we need to know some information. We define some variables for the student.\n",
    "\n",
    "student_gpa = round(random.uniform(0, 4.0), 2)\n",
    "student_age = random.randint(13, 16)"
   ]
  },
  {
   "cell_type": "code",
   "execution_count": 16,
   "metadata": {},
   "outputs": [
    {
     "name": "stdout",
     "output_type": "stream",
     "text": [
      "The student's age is 15 and their GPA is 3.37\n",
      "The student is accepted into the advanced math class\n"
     ]
    }
   ],
   "source": [
    "# Creating an if statement to determine if student can get into the advanced math class.\n",
    "\n",
    "print(\"The student's age is \" + str(student_age) + \" and their GPA is \" + str(student_gpa))\n",
    "\n",
    "if student_gpa == 4.0:\n",
    "    print('The student is accepted into the advanced math class')\n",
    "elif (student_gpa >= 3.0) and (student_gpa < 4.0):\n",
    "    if student_age >= 15:\n",
    "        print('The student is accepted into the advanced math class')\n",
    "    else:\n",
    "        print('Sorry, we could not accept this student into the advanced math class')\n",
    "else:\n",
    "    print('Sorry, we could not accept this student into the advanced math class')"
   ]
  },
  {
   "cell_type": "code",
   "execution_count": 17,
   "metadata": {},
   "outputs": [
    {
     "name": "stdout",
     "output_type": "stream",
     "text": [
      "The original temperature in Fahrenheit is 75.0°F, which is converted to 23.89°C\n"
     ]
    }
   ],
   "source": [
    "# Creating a function to convert a temperature in Fahrenheit to Celsius.\n",
    "\n",
    "def convertTemp(temp):\n",
    "  temp_celsius = (temp - 32) * (5/9)\n",
    "  temp_celsius = round(temp_celsius, 2)\n",
    "  return temp_celsius\n",
    "\n",
    "temp_fahrenheit = float(input(\"Temperature in Fahrenheit: \"))\n",
    "\n",
    "temp_celsius = convertTemp(temp_fahrenheit)\n",
    "\n",
    "print(\"The original temperature in Fahrenheit is \" + str(temp_fahrenheit) + \"°F, which is converted to \" + str(temp_celsius) + \"°C\")"
   ]
  },
  {
   "cell_type": "code",
   "execution_count": 39,
   "metadata": {},
   "outputs": [],
   "source": [
    "name = input('What is your name?: ').capitalize()\n",
    "age = int(input('What is your age?: '))\n",
    "birthday = pd.to_datetime(input('When is your birthday?: '))\n",
    "now = datetime.now()\n"
   ]
  },
  {
   "cell_type": "code",
   "execution_count": 40,
   "metadata": {},
   "outputs": [
    {
     "name": "stdout",
     "output_type": "stream",
     "text": [
      "Hello Jake, your birthday is January 25 2001 and your age is 20 years old.\n"
     ]
    }
   ],
   "source": [
    "print('Hello ' + name + ', your birthday is ' + str(birthday.strftime('%B %-d %Y')) + ' and your age is ' + str(age) + ' years old.')"
   ]
  },
  {
   "cell_type": "code",
   "execution_count": 126,
   "metadata": {},
   "outputs": [],
   "source": [
    "def total_seconds_alive(birthday_input):\n",
    "    birthday_input = pd.to_datetime(birthday_input)\n",
    "    difference = (now - birthday_input)\n",
    "    total_seconds = difference.total_seconds()\n",
    "    total_seconds = '{:,.2f}'.format(total_seconds)\n",
    "    print(total_seconds + ' seconds alive')"
   ]
  },
  {
   "cell_type": "code",
   "execution_count": 150,
   "metadata": {},
   "outputs": [
    {
     "name": "stdout",
     "output_type": "stream",
     "text": [
      "650,162,771.98 seconds alive\n",
      "You are 21\n"
     ]
    }
   ],
   "source": [
    "user_birthday_input = input('When is your birthday?: ')\n",
    "user_age_input = (now.year - pd.to_datetime(user_birthday_input).year)\n",
    "\n",
    "total_seconds_alive(user_birthday_input)\n",
    "print('You are ' + str(user_age_input))"
   ]
  },
  {
   "cell_type": "code",
   "execution_count": null,
   "metadata": {},
   "outputs": [],
   "source": []
  }
 ],
 "metadata": {
  "interpreter": {
   "hash": "a0a5145e6c304e2a9afaf5b930a2955b950bd4b81fe94f7c42930f43f42762eb"
  },
  "kernelspec": {
   "display_name": "Python 3.10.2 64-bit",
   "language": "python",
   "name": "python3"
  },
  "language_info": {
   "codemirror_mode": {
    "name": "ipython",
    "version": 3
   },
   "file_extension": ".py",
   "mimetype": "text/x-python",
   "name": "python",
   "nbconvert_exporter": "python",
   "pygments_lexer": "ipython3",
   "version": "3.10.2"
  },
  "orig_nbformat": 4
 },
 "nbformat": 4,
 "nbformat_minor": 2
}

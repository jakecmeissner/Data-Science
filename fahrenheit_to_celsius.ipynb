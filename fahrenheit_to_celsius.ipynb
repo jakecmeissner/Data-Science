{
 "cells": [
  {
   "cell_type": "code",
   "execution_count": 1,
   "metadata": {},
   "outputs": [
    {
     "name": "stdout",
     "output_type": "stream",
     "text": [
      "The original temperature in Fahrenheit for #1 is 35.0°F, which is converted to 1.67°C\n",
      "The original temperature in Fahrenheit for #2 is 25.0°F, which is converted to -3.89°C\n",
      "The original temperature in Fahrenheit for #3 is 75.0°F, which is converted to 23.89°C\n"
     ]
    }
   ],
   "source": [
    "# Jake Meissner 75936\n",
    "\n",
    "def convertTemp(temp):\n",
    "  temp_celsius = (temp - 32) * (5/9)\n",
    "  temp_celsius = round(temp_celsius, 2)\n",
    "  return temp_celsius\n",
    "\n",
    "temp_fahrenheit1 = float(input(\"Temperature #1 in Fahrenheit: \"))\n",
    "temp_fahrenheit2 = float(input(\"Temperature #2 in Fahrenheit: \"))\n",
    "temp_fahrenheit3 = float(input(\"Temperature #3 in Fahrenheit: \"))\n",
    "\n",
    "temp_celsius1 = convertTemp(temp_fahrenheit1)\n",
    "temp_celsius2 = convertTemp(temp_fahrenheit2)\n",
    "temp_celsius3 = convertTemp(temp_fahrenheit3)\n",
    "\n",
    "print(\"The original temperature in Fahrenheit for #1 is \" + str(temp_fahrenheit1) + \"°F, which is converted to \" + str(temp_celsius1) + \"°C\")\n",
    "print(\"The original temperature in Fahrenheit for #2 is \" + str(temp_fahrenheit2) + \"°F, which is converted to \" + str(temp_celsius2) + \"°C\")\n",
    "print(\"The original temperature in Fahrenheit for #3 is \" + str(temp_fahrenheit3) + \"°F, which is converted to \" + str(temp_celsius3) + \"°C\")"
   ]
  },
  {
   "cell_type": "code",
   "execution_count": 4,
   "metadata": {},
   "outputs": [
    {
     "name": "stdout",
     "output_type": "stream",
     "text": [
      "2.0\n"
     ]
    }
   ],
   "source": [
    "print(18 / (3**2))"
   ]
  },
  {
   "cell_type": "code",
   "execution_count": 7,
   "metadata": {},
   "outputs": [
    {
     "data": {
      "text/plain": [
       "2"
      ]
     },
     "execution_count": 7,
     "metadata": {},
     "output_type": "execute_result"
    }
   ],
   "source": [
    "5%3"
   ]
  },
  {
   "cell_type": "code",
   "execution_count": 8,
   "metadata": {},
   "outputs": [],
   "source": [
    "MY_variable = 10"
   ]
  },
  {
   "cell_type": "code",
   "execution_count": 10,
   "metadata": {},
   "outputs": [
    {
     "name": "stdout",
     "output_type": "stream",
     "text": [
      "9\n"
     ]
    }
   ],
   "source": [
    "Number = 3**2\n",
    "print(Number)"
   ]
  },
  {
   "cell_type": "code",
   "execution_count": 11,
   "metadata": {},
   "outputs": [
    {
     "data": {
      "text/plain": [
       "1"
      ]
     },
     "execution_count": 11,
     "metadata": {},
     "output_type": "execute_result"
    }
   ],
   "source": [
    "3//2"
   ]
  },
  {
   "cell_type": "code",
   "execution_count": 13,
   "metadata": {},
   "outputs": [
    {
     "name": "stdout",
     "output_type": "stream",
     "text": [
      "2\n"
     ]
    }
   ],
   "source": [
    "print(5%3)"
   ]
  },
  {
   "cell_type": "code",
   "execution_count": 15,
   "metadata": {},
   "outputs": [],
   "source": [
    "def func(x):\n",
    "    if x == 3:\n",
    "        print('yes')\n",
    "\n",
    "func(2)"
   ]
  },
  {
   "cell_type": "code",
   "execution_count": 16,
   "metadata": {},
   "outputs": [
    {
     "name": "stdout",
     "output_type": "stream",
     "text": [
      "0.3333333333333333\n"
     ]
    }
   ],
   "source": [
    "def func(x):\n",
    "    return 1/x\n",
    "\n",
    "result = func(3)\n",
    "print(result)"
   ]
  },
  {
   "cell_type": "code",
   "execution_count": 19,
   "metadata": {},
   "outputs": [
    {
     "data": {
      "text/plain": [
       "str"
      ]
     },
     "execution_count": 19,
     "metadata": {},
     "output_type": "execute_result"
    }
   ],
   "source": [
    "x = input('enter number')\n",
    "type(x)"
   ]
  },
  {
   "cell_type": "code",
   "execution_count": 20,
   "metadata": {},
   "outputs": [
    {
     "name": "stdout",
     "output_type": "stream",
     "text": [
      "True\n"
     ]
    }
   ],
   "source": [
    "print(5>=4)"
   ]
  },
  {
   "cell_type": "code",
   "execution_count": 22,
   "metadata": {},
   "outputs": [
    {
     "name": "stdout",
     "output_type": "stream",
     "text": [
      "20\n"
     ]
    }
   ],
   "source": [
    "birthyear = input('year')\n",
    "currentyear = 2021\n",
    "age = currentyear - int(birthyear)\n",
    "print(age)"
   ]
  },
  {
   "cell_type": "code",
   "execution_count": 23,
   "metadata": {},
   "outputs": [
    {
     "name": "stdout",
     "output_type": "stream",
     "text": [
      "2.0\n"
     ]
    }
   ],
   "source": [
    "print(8 ** (1/3))"
   ]
  },
  {
   "cell_type": "code",
   "execution_count": 24,
   "metadata": {},
   "outputs": [
    {
     "name": "stdout",
     "output_type": "stream",
     "text": [
      "3\n"
     ]
    }
   ],
   "source": [
    "num = 7\n",
    "if num > 3:\n",
    "    print('3')\n",
    "    if num < 5:\n",
    "        print('5')\n",
    "        if num == 7:\n",
    "            print('7')"
   ]
  },
  {
   "cell_type": "code",
   "execution_count": 25,
   "metadata": {},
   "outputs": [
    {
     "name": "stdout",
     "output_type": "stream",
     "text": [
      "shout!\n"
     ]
    }
   ],
   "source": [
    "def shout(word):\n",
    "    return word + \"!\"\n",
    "speak = shout\n",
    "output = speak(\"shout\")\n",
    "print(output)"
   ]
  },
  {
   "cell_type": "code",
   "execution_count": 26,
   "metadata": {},
   "outputs": [
    {
     "name": "stdout",
     "output_type": "stream",
     "text": [
      "12\n"
     ]
    }
   ],
   "source": [
    "x = 4\n",
    "x *= 3\n",
    "print(x)"
   ]
  },
  {
   "cell_type": "code",
   "execution_count": null,
   "metadata": {},
   "outputs": [],
   "source": []
  }
 ],
 "metadata": {
  "interpreter": {
   "hash": "57d7e381bad84dbbe9079d0fe351dec9007cfa821ac0e6e26c21b62a7ed5dfe0"
  },
  "kernelspec": {
   "display_name": "Python 3.8.12 64-bit ('myenv': conda)",
   "language": "python",
   "name": "python3"
  },
  "language_info": {
   "codemirror_mode": {
    "name": "ipython",
    "version": 3
   },
   "file_extension": ".py",
   "mimetype": "text/x-python",
   "name": "python",
   "nbconvert_exporter": "python",
   "pygments_lexer": "ipython3",
   "version": "3.8.12"
  },
  "orig_nbformat": 4
 },
 "nbformat": 4,
 "nbformat_minor": 2
}
